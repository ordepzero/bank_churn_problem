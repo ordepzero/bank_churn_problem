{
 "cells": [
  {
   "cell_type": "code",
   "execution_count": 1,
   "id": "ed4fed8d-dc79-4099-b570-d2fd2ef472da",
   "metadata": {},
   "outputs": [],
   "source": [
    "import matplotlib.pyplot as plt\n",
    "from sklearn.pipeline import Pipeline\n"
   ]
  },
  {
   "cell_type": "code",
   "execution_count": 2,
   "id": "f2efacb8-1945-4d16-b0b7-c430964d37c3",
   "metadata": {},
   "outputs": [],
   "source": [
    "from sklearn.preprocessing import StandardScaler\n",
    "from sklearn.decomposition import PCA\n",
    "from sklearn.linear_model import LogisticRegression\n",
    "\n",
    "pipeline = Pipeline([\n",
    "    ('scaler', StandardScaler()),\n",
    "    ('pca', PCA(n_components=2)),\n",
    "    ('classifier', LogisticRegression())\n",
    "])"
   ]
  },
  {
   "cell_type": "code",
   "execution_count": 6,
   "id": "2a4fd963-5f34-4839-a261-cf4b6b198bd5",
   "metadata": {},
   "outputs": [
    {
     "data": {
      "text/html": [
       "<style>#sk-eb875800-bedc-4e63-b975-7a4f868b1b7f {color: black;background-color: white;}#sk-eb875800-bedc-4e63-b975-7a4f868b1b7f pre{padding: 0;}#sk-eb875800-bedc-4e63-b975-7a4f868b1b7f div.sk-toggleable {background-color: white;}#sk-eb875800-bedc-4e63-b975-7a4f868b1b7f label.sk-toggleable__label {cursor: pointer;display: block;width: 100%;margin-bottom: 0;padding: 0.2em 0.3em;box-sizing: border-box;text-align: center;}#sk-eb875800-bedc-4e63-b975-7a4f868b1b7f div.sk-toggleable__content {max-height: 0;max-width: 0;overflow: hidden;text-align: left;background-color: #f0f8ff;}#sk-eb875800-bedc-4e63-b975-7a4f868b1b7f div.sk-toggleable__content pre {margin: 0.2em;color: black;border-radius: 0.25em;background-color: #f0f8ff;}#sk-eb875800-bedc-4e63-b975-7a4f868b1b7f input.sk-toggleable__control:checked~div.sk-toggleable__content {max-height: 200px;max-width: 100%;overflow: auto;}#sk-eb875800-bedc-4e63-b975-7a4f868b1b7f div.sk-estimator input.sk-toggleable__control:checked~label.sk-toggleable__label {background-color: #d4ebff;}#sk-eb875800-bedc-4e63-b975-7a4f868b1b7f div.sk-label input.sk-toggleable__control:checked~label.sk-toggleable__label {background-color: #d4ebff;}#sk-eb875800-bedc-4e63-b975-7a4f868b1b7f input.sk-hidden--visually {border: 0;clip: rect(1px 1px 1px 1px);clip: rect(1px, 1px, 1px, 1px);height: 1px;margin: -1px;overflow: hidden;padding: 0;position: absolute;width: 1px;}#sk-eb875800-bedc-4e63-b975-7a4f868b1b7f div.sk-estimator {font-family: monospace;background-color: #f0f8ff;margin: 0.25em 0.25em;border: 1px dotted black;border-radius: 0.25em;box-sizing: border-box;}#sk-eb875800-bedc-4e63-b975-7a4f868b1b7f div.sk-estimator:hover {background-color: #d4ebff;}#sk-eb875800-bedc-4e63-b975-7a4f868b1b7f div.sk-parallel-item::after {content: \"\";width: 100%;border-bottom: 1px solid gray;flex-grow: 1;}#sk-eb875800-bedc-4e63-b975-7a4f868b1b7f div.sk-label:hover label.sk-toggleable__label {background-color: #d4ebff;}#sk-eb875800-bedc-4e63-b975-7a4f868b1b7f div.sk-serial::before {content: \"\";position: absolute;border-left: 1px solid gray;box-sizing: border-box;top: 2em;bottom: 0;left: 50%;}#sk-eb875800-bedc-4e63-b975-7a4f868b1b7f div.sk-serial {display: flex;flex-direction: column;align-items: center;background-color: white;}#sk-eb875800-bedc-4e63-b975-7a4f868b1b7f div.sk-item {z-index: 1;}#sk-eb875800-bedc-4e63-b975-7a4f868b1b7f div.sk-parallel {display: flex;align-items: stretch;justify-content: center;background-color: white;}#sk-eb875800-bedc-4e63-b975-7a4f868b1b7f div.sk-parallel-item {display: flex;flex-direction: column;position: relative;background-color: white;}#sk-eb875800-bedc-4e63-b975-7a4f868b1b7f div.sk-parallel-item:first-child::after {align-self: flex-end;width: 50%;}#sk-eb875800-bedc-4e63-b975-7a4f868b1b7f div.sk-parallel-item:last-child::after {align-self: flex-start;width: 50%;}#sk-eb875800-bedc-4e63-b975-7a4f868b1b7f div.sk-parallel-item:only-child::after {width: 0;}#sk-eb875800-bedc-4e63-b975-7a4f868b1b7f div.sk-dashed-wrapped {border: 1px dashed gray;margin: 0.2em;box-sizing: border-box;padding-bottom: 0.1em;background-color: white;position: relative;}#sk-eb875800-bedc-4e63-b975-7a4f868b1b7f div.sk-label label {font-family: monospace;font-weight: bold;background-color: white;display: inline-block;line-height: 1.2em;}#sk-eb875800-bedc-4e63-b975-7a4f868b1b7f div.sk-label-container {position: relative;z-index: 2;text-align: center;}#sk-eb875800-bedc-4e63-b975-7a4f868b1b7f div.sk-container {display: inline-block;position: relative;}</style><div id=\"sk-eb875800-bedc-4e63-b975-7a4f868b1b7f\" class\"sk-top-container\"><div class=\"sk-container\"><div class=\"sk-item sk-dashed-wrapped\"><div class=\"sk-label-container\"><div class=\"sk-label sk-toggleable\"><input class=\"sk-toggleable__control sk-hidden--visually\" id=\"178db41b-a042-47eb-ab9a-4048b71cffc8\" type=\"checkbox\" ><label class=\"sk-toggleable__label\" for=\"178db41b-a042-47eb-ab9a-4048b71cffc8\">Pipeline</label><div class=\"sk-toggleable__content\"><pre>Pipeline(steps=[('scaler', StandardScaler()), ('pca', PCA(n_components=2)),\n",
       "                ('classifier', LogisticRegression())])</pre></div></div></div><div class=\"sk-serial\"><div class=\"sk-item\"><div class=\"sk-estimator sk-toggleable\"><input class=\"sk-toggleable__control sk-hidden--visually\" id=\"faa65b4f-183a-4bb9-b48e-5eadd2557606\" type=\"checkbox\" ><label class=\"sk-toggleable__label\" for=\"faa65b4f-183a-4bb9-b48e-5eadd2557606\">StandardScaler</label><div class=\"sk-toggleable__content\"><pre>StandardScaler()</pre></div></div></div><div class=\"sk-item\"><div class=\"sk-estimator sk-toggleable\"><input class=\"sk-toggleable__control sk-hidden--visually\" id=\"d07336c1-d1a1-4e85-a621-2c8986ba5aab\" type=\"checkbox\" ><label class=\"sk-toggleable__label\" for=\"d07336c1-d1a1-4e85-a621-2c8986ba5aab\">PCA</label><div class=\"sk-toggleable__content\"><pre>PCA(n_components=2)</pre></div></div></div><div class=\"sk-item\"><div class=\"sk-estimator sk-toggleable\"><input class=\"sk-toggleable__control sk-hidden--visually\" id=\"104fce49-92ab-4eb5-a78c-d5fd7188cadf\" type=\"checkbox\" ><label class=\"sk-toggleable__label\" for=\"104fce49-92ab-4eb5-a78c-d5fd7188cadf\">LogisticRegression</label><div class=\"sk-toggleable__content\"><pre>LogisticRegression()</pre></div></div></div></div></div></div></div>"
      ],
      "text/plain": [
       "Pipeline(steps=[('scaler', StandardScaler()), ('pca', PCA(n_components=2)),\n",
       "                ('classifier', LogisticRegression())])"
      ]
     },
     "execution_count": 6,
     "metadata": {},
     "output_type": "execute_result"
    }
   ],
   "source": [
    "from sklearn import set_config\n",
    "\n",
    "# Enable SVG format for better quality\n",
    "set_config(display='diagram')\n",
    "\n",
    "# Visualize the pipeline\n",
    "pipeline\n"
   ]
  },
  {
   "cell_type": "code",
   "execution_count": 4,
   "id": "4f6881c6-ce56-45e9-b31f-96cbdc38669e",
   "metadata": {},
   "outputs": [],
   "source": [
    "plt.show()"
   ]
  }
 ],
 "metadata": {
  "kernelspec": {
   "display_name": "Python 3 (ipykernel)",
   "language": "python",
   "name": "python3"
  },
  "language_info": {
   "codemirror_mode": {
    "name": "ipython",
    "version": 3
   },
   "file_extension": ".py",
   "mimetype": "text/x-python",
   "name": "python",
   "nbconvert_exporter": "python",
   "pygments_lexer": "ipython3",
   "version": "3.8.18"
  }
 },
 "nbformat": 4,
 "nbformat_minor": 5
}
